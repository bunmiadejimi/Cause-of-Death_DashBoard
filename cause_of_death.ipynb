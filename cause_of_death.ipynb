{
 "cells": [
  {
   "cell_type": "code",
   "execution_count": 2,
   "metadata": {},
   "outputs": [],
   "source": [
    "import pandas as pd\n",
    "import numpy as np\n",
    "import matplotlib.pyplot as plt\n",
    "import panel as pn\n",
    "\n",
    "pn.extension('tabulator')\n",
    "import hvplot.pandas"
   ]
  },
  {
   "cell_type": "code",
   "execution_count": 3,
   "metadata": {},
   "outputs": [
    {
     "data": {
      "text/html": [
       "<div>\n",
       "<style scoped>\n",
       "    .dataframe tbody tr th:only-of-type {\n",
       "        vertical-align: middle;\n",
       "    }\n",
       "\n",
       "    .dataframe tbody tr th {\n",
       "        vertical-align: top;\n",
       "    }\n",
       "\n",
       "    .dataframe thead th {\n",
       "        text-align: right;\n",
       "    }\n",
       "</style>\n",
       "<table border=\"1\" class=\"dataframe\">\n",
       "  <thead>\n",
       "    <tr style=\"text-align: right;\">\n",
       "      <th></th>\n",
       "      <th>Entity</th>\n",
       "      <th>Code</th>\n",
       "      <th>Year</th>\n",
       "      <th>Number of executions (Amnesty International)</th>\n",
       "      <th>Deaths - Meningitis - Sex: Both - Age: All Ages (Number)</th>\n",
       "      <th>Deaths - Alzheimer's disease and other dementias - Sex: Both - Age: All Ages (Number)</th>\n",
       "      <th>Deaths - Parkinson's disease - Sex: Both - Age: All Ages (Number)</th>\n",
       "      <th>Deaths - Nutritional deficiencies - Sex: Both - Age: All Ages (Number)</th>\n",
       "      <th>Deaths - Malaria - Sex: Both - Age: All Ages (Number)</th>\n",
       "      <th>Deaths - Drowning - Sex: Both - Age: All Ages (Number)</th>\n",
       "      <th>...</th>\n",
       "      <th>Deaths - Chronic kidney disease - Sex: Both - Age: All Ages (Number)</th>\n",
       "      <th>Deaths - Poisonings - Sex: Both - Age: All Ages (Number)</th>\n",
       "      <th>Deaths - Protein-energy malnutrition - Sex: Both - Age: All Ages (Number)</th>\n",
       "      <th>Terrorism (deaths)</th>\n",
       "      <th>Deaths - Road injuries - Sex: Both - Age: All Ages (Number)</th>\n",
       "      <th>Deaths - Chronic respiratory diseases - Sex: Both - Age: All Ages (Number)</th>\n",
       "      <th>Deaths - Cirrhosis and other chronic liver diseases - Sex: Both - Age: All Ages (Number)</th>\n",
       "      <th>Deaths - Digestive diseases - Sex: Both - Age: All Ages (Number)</th>\n",
       "      <th>Deaths - Fire, heat, and hot substances - Sex: Both - Age: All Ages (Number)</th>\n",
       "      <th>Deaths - Acute hepatitis - Sex: Both - Age: All Ages (Number)</th>\n",
       "    </tr>\n",
       "  </thead>\n",
       "  <tbody>\n",
       "    <tr>\n",
       "      <th>0</th>\n",
       "      <td>Afghanistan</td>\n",
       "      <td>AFG</td>\n",
       "      <td>2007</td>\n",
       "      <td>15</td>\n",
       "      <td>2933.0</td>\n",
       "      <td>1402.0</td>\n",
       "      <td>450.0</td>\n",
       "      <td>2488.0</td>\n",
       "      <td>393.0</td>\n",
       "      <td>2127.0</td>\n",
       "      <td>...</td>\n",
       "      <td>4490.0</td>\n",
       "      <td>512.0</td>\n",
       "      <td>2439.0</td>\n",
       "      <td>1199.0</td>\n",
       "      <td>7425.0</td>\n",
       "      <td>7222.0</td>\n",
       "      <td>3346.0</td>\n",
       "      <td>6458.0</td>\n",
       "      <td>481.0</td>\n",
       "      <td>3437.0</td>\n",
       "    </tr>\n",
       "    <tr>\n",
       "      <th>1</th>\n",
       "      <td>Afghanistan</td>\n",
       "      <td>AFG</td>\n",
       "      <td>2008</td>\n",
       "      <td>17</td>\n",
       "      <td>2731.0</td>\n",
       "      <td>1424.0</td>\n",
       "      <td>455.0</td>\n",
       "      <td>2277.0</td>\n",
       "      <td>255.0</td>\n",
       "      <td>1973.0</td>\n",
       "      <td>...</td>\n",
       "      <td>4534.0</td>\n",
       "      <td>495.0</td>\n",
       "      <td>2231.0</td>\n",
       "      <td>1092.0</td>\n",
       "      <td>7355.0</td>\n",
       "      <td>7143.0</td>\n",
       "      <td>3316.0</td>\n",
       "      <td>6408.0</td>\n",
       "      <td>462.0</td>\n",
       "      <td>3005.0</td>\n",
       "    </tr>\n",
       "  </tbody>\n",
       "</table>\n",
       "<p>2 rows × 36 columns</p>\n",
       "</div>"
      ],
      "text/plain": [
       "        Entity Code  Year Number of executions (Amnesty International)  \\\n",
       "0  Afghanistan  AFG  2007                                           15   \n",
       "1  Afghanistan  AFG  2008                                           17   \n",
       "\n",
       "   Deaths - Meningitis - Sex: Both - Age: All Ages (Number)  \\\n",
       "0                                             2933.0          \n",
       "1                                             2731.0          \n",
       "\n",
       "   Deaths - Alzheimer's disease and other dementias - Sex: Both - Age: All Ages (Number)  \\\n",
       "0                                             1402.0                                       \n",
       "1                                             1424.0                                       \n",
       "\n",
       "   Deaths - Parkinson's disease - Sex: Both - Age: All Ages (Number)  \\\n",
       "0                                              450.0                   \n",
       "1                                              455.0                   \n",
       "\n",
       "   Deaths - Nutritional deficiencies - Sex: Both - Age: All Ages (Number)  \\\n",
       "0                                             2488.0                        \n",
       "1                                             2277.0                        \n",
       "\n",
       "   Deaths - Malaria - Sex: Both - Age: All Ages (Number)  \\\n",
       "0                                              393.0       \n",
       "1                                              255.0       \n",
       "\n",
       "   Deaths - Drowning - Sex: Both - Age: All Ages (Number)  ...  \\\n",
       "0                                             2127.0       ...   \n",
       "1                                             1973.0       ...   \n",
       "\n",
       "   Deaths - Chronic kidney disease - Sex: Both - Age: All Ages (Number)  \\\n",
       "0                                             4490.0                      \n",
       "1                                             4534.0                      \n",
       "\n",
       "   Deaths - Poisonings - Sex: Both - Age: All Ages (Number)  \\\n",
       "0                                              512.0          \n",
       "1                                              495.0          \n",
       "\n",
       "   Deaths - Protein-energy malnutrition - Sex: Both - Age: All Ages (Number)  \\\n",
       "0                                             2439.0                           \n",
       "1                                             2231.0                           \n",
       "\n",
       "   Terrorism (deaths)  \\\n",
       "0              1199.0   \n",
       "1              1092.0   \n",
       "\n",
       "   Deaths - Road injuries - Sex: Both - Age: All Ages (Number)  \\\n",
       "0                                             7425.0             \n",
       "1                                             7355.0             \n",
       "\n",
       "   Deaths - Chronic respiratory diseases - Sex: Both - Age: All Ages (Number)  \\\n",
       "0                                             7222.0                            \n",
       "1                                             7143.0                            \n",
       "\n",
       "   Deaths - Cirrhosis and other chronic liver diseases - Sex: Both - Age: All Ages (Number)  \\\n",
       "0                                             3346.0                                          \n",
       "1                                             3316.0                                          \n",
       "\n",
       "   Deaths - Digestive diseases - Sex: Both - Age: All Ages (Number)  \\\n",
       "0                                             6458.0                  \n",
       "1                                             6408.0                  \n",
       "\n",
       "   Deaths - Fire, heat, and hot substances - Sex: Both - Age: All Ages (Number)  \\\n",
       "0                                              481.0                              \n",
       "1                                              462.0                              \n",
       "\n",
       "   Deaths - Acute hepatitis - Sex: Both - Age: All Ages (Number)  \n",
       "0                                             3437.0              \n",
       "1                                             3005.0              \n",
       "\n",
       "[2 rows x 36 columns]"
      ]
     },
     "execution_count": 3,
     "metadata": {},
     "output_type": "execute_result"
    }
   ],
   "source": [
    "df1 = pd.read_csv('deaths-by-cause.csv')\n",
    "df1.head(2)"
   ]
  },
  {
   "cell_type": "code",
   "execution_count": 4,
   "metadata": {},
   "outputs": [
    {
     "data": {
      "text/html": [
       "<div>\n",
       "<style scoped>\n",
       "    .dataframe tbody tr th:only-of-type {\n",
       "        vertical-align: middle;\n",
       "    }\n",
       "\n",
       "    .dataframe tbody tr th {\n",
       "        vertical-align: top;\n",
       "    }\n",
       "\n",
       "    .dataframe thead th {\n",
       "        text-align: right;\n",
       "    }\n",
       "</style>\n",
       "<table border=\"1\" class=\"dataframe\">\n",
       "  <thead>\n",
       "    <tr style=\"text-align: right;\">\n",
       "      <th></th>\n",
       "      <th>Country Name</th>\n",
       "      <th>Country Code</th>\n",
       "      <th>Indicator Name</th>\n",
       "      <th>Indicator Code</th>\n",
       "      <th>1960</th>\n",
       "      <th>1961</th>\n",
       "      <th>1962</th>\n",
       "      <th>1963</th>\n",
       "      <th>1964</th>\n",
       "      <th>1965</th>\n",
       "      <th>...</th>\n",
       "      <th>2012</th>\n",
       "      <th>2013</th>\n",
       "      <th>2014</th>\n",
       "      <th>2015</th>\n",
       "      <th>2016</th>\n",
       "      <th>2017</th>\n",
       "      <th>2018</th>\n",
       "      <th>2019</th>\n",
       "      <th>2020</th>\n",
       "      <th>2021</th>\n",
       "    </tr>\n",
       "  </thead>\n",
       "  <tbody>\n",
       "    <tr>\n",
       "      <th>0</th>\n",
       "      <td>Aruba</td>\n",
       "      <td>ABW</td>\n",
       "      <td>GDP per capita (current US$)</td>\n",
       "      <td>NY.GDP.PCAP.CD</td>\n",
       "      <td>NaN</td>\n",
       "      <td>NaN</td>\n",
       "      <td>NaN</td>\n",
       "      <td>NaN</td>\n",
       "      <td>NaN</td>\n",
       "      <td>NaN</td>\n",
       "      <td>...</td>\n",
       "      <td>25496.84394</td>\n",
       "      <td>26442.426800</td>\n",
       "      <td>26895.05717</td>\n",
       "      <td>28399.050130</td>\n",
       "      <td>28453.715560</td>\n",
       "      <td>29348.418970</td>\n",
       "      <td>30253.714230</td>\n",
       "      <td>31135.884360</td>\n",
       "      <td>23384.298790</td>\n",
       "      <td>NaN</td>\n",
       "    </tr>\n",
       "    <tr>\n",
       "      <th>1</th>\n",
       "      <td>Africa Eastern and Southern</td>\n",
       "      <td>AFE</td>\n",
       "      <td>GDP per capita (current US$)</td>\n",
       "      <td>NY.GDP.PCAP.CD</td>\n",
       "      <td>162.726326</td>\n",
       "      <td>162.555968</td>\n",
       "      <td>172.271022</td>\n",
       "      <td>199.784916</td>\n",
       "      <td>180.228774</td>\n",
       "      <td>199.517227</td>\n",
       "      <td>...</td>\n",
       "      <td>1777.30395</td>\n",
       "      <td>1748.905594</td>\n",
       "      <td>1736.24222</td>\n",
       "      <td>1556.316469</td>\n",
       "      <td>1446.533624</td>\n",
       "      <td>1629.404273</td>\n",
       "      <td>1541.031661</td>\n",
       "      <td>1511.309259</td>\n",
       "      <td>1360.878645</td>\n",
       "      <td>1557.722682</td>\n",
       "    </tr>\n",
       "  </tbody>\n",
       "</table>\n",
       "<p>2 rows × 66 columns</p>\n",
       "</div>"
      ],
      "text/plain": [
       "                  Country Name Country Code                Indicator Name  \\\n",
       "0                        Aruba          ABW  GDP per capita (current US$)   \n",
       "1  Africa Eastern and Southern          AFE  GDP per capita (current US$)   \n",
       "\n",
       "   Indicator Code        1960        1961        1962        1963        1964  \\\n",
       "0  NY.GDP.PCAP.CD         NaN         NaN         NaN         NaN         NaN   \n",
       "1  NY.GDP.PCAP.CD  162.726326  162.555968  172.271022  199.784916  180.228774   \n",
       "\n",
       "         1965  ...         2012          2013         2014          2015  \\\n",
       "0         NaN  ...  25496.84394  26442.426800  26895.05717  28399.050130   \n",
       "1  199.517227  ...   1777.30395   1748.905594   1736.24222   1556.316469   \n",
       "\n",
       "           2016          2017          2018          2019          2020  \\\n",
       "0  28453.715560  29348.418970  30253.714230  31135.884360  23384.298790   \n",
       "1   1446.533624   1629.404273   1541.031661   1511.309259   1360.878645   \n",
       "\n",
       "          2021  \n",
       "0          NaN  \n",
       "1  1557.722682  \n",
       "\n",
       "[2 rows x 66 columns]"
      ]
     },
     "execution_count": 4,
     "metadata": {},
     "output_type": "execute_result"
    }
   ],
   "source": [
    "df2 = pd.read_csv('gdp-per-capita.csv')\n",
    "df2.head(2)"
   ]
  },
  {
   "cell_type": "code",
   "execution_count": 5,
   "metadata": {},
   "outputs": [],
   "source": [
    "df2 = pd.melt(df2, id_vars=['Country Name', 'Country Code'], \n",
    "        value_vars=list(df2.columns[4:].values))\n",
    "df2.columns = ['Entity', 'Code', 'Year', 'gdp_per_capita']"
   ]
  },
  {
   "cell_type": "code",
   "execution_count": 6,
   "metadata": {},
   "outputs": [
    {
     "data": {
      "text/html": [
       "<div>\n",
       "<style scoped>\n",
       "    .dataframe tbody tr th:only-of-type {\n",
       "        vertical-align: middle;\n",
       "    }\n",
       "\n",
       "    .dataframe tbody tr th {\n",
       "        vertical-align: top;\n",
       "    }\n",
       "\n",
       "    .dataframe thead th {\n",
       "        text-align: right;\n",
       "    }\n",
       "</style>\n",
       "<table border=\"1\" class=\"dataframe\">\n",
       "  <thead>\n",
       "    <tr style=\"text-align: right;\">\n",
       "      <th></th>\n",
       "      <th>subregion</th>\n",
       "      <th>name</th>\n",
       "      <th>region</th>\n",
       "      <th>continent</th>\n",
       "    </tr>\n",
       "  </thead>\n",
       "  <tbody>\n",
       "    <tr>\n",
       "      <th>0</th>\n",
       "      <td>Caribbean</td>\n",
       "      <td>The Bahamas</td>\n",
       "      <td>Latin America &amp; Caribbean</td>\n",
       "      <td>North America</td>\n",
       "    </tr>\n",
       "  </tbody>\n",
       "</table>\n",
       "</div>"
      ],
      "text/plain": [
       "   subregion         name                     region      continent\n",
       "0  Caribbean  The Bahamas  Latin America & Caribbean  North America"
      ]
     },
     "execution_count": 6,
     "metadata": {},
     "output_type": "execute_result"
    }
   ],
   "source": [
    "#import geojson file and create dataframe from extracted geojson data.\n",
    "import json\n",
    "wrld = json.load(open('world.geo.json', 'r'))\n",
    "subregion = [country['properties']['subregion'] for country in wrld['features']]\n",
    "name = [country['properties']['sovereignt'] for country in wrld['features']]\n",
    "#economy = [country['properties']['economy'] for country in wrld['features']]\n",
    "region = [country['properties']['region_wb'] for country in wrld['features']]\n",
    "continent = [country['properties']['continent'] for country in wrld['features']]\n",
    "\n",
    "\n",
    "zipped = list(zip(subregion, name, region, continent))   \n",
    "country_deets = pd.DataFrame(zipped, columns = ['subregion', 'name', 'region', 'continent'])\n",
    "country_deets.head(1)"
   ]
  },
  {
   "cell_type": "code",
   "execution_count": 7,
   "metadata": {},
   "outputs": [],
   "source": [
    "df2 = pd.merge(df2, country_deets, \n",
    "               left_on = ['Entity'], \n",
    "               right_on = ['name'], \n",
    "               how = \"inner\")\n",
    "df2['Year'] = df2.Year.astype('int')"
   ]
  },
  {
   "cell_type": "code",
   "execution_count": 8,
   "metadata": {},
   "outputs": [
    {
     "name": "stderr",
     "output_type": "stream",
     "text": [
      "C:\\Users\\adejimi\\AppData\\Local\\Temp\\ipykernel_31432\\3420572590.py:1: FutureWarning: Dropping of nuisance columns in DataFrame reductions (with 'numeric_only=None') is deprecated; in a future version this will raise TypeError.  Select only valid columns before calling the reduction.\n",
      "  df1['total_deaths'] = df1.iloc[:, 3:].sum(axis=1)\n"
     ]
    }
   ],
   "source": [
    "df1['total_deaths'] = df1.iloc[:, 3:].sum(axis=1)"
   ]
  },
  {
   "cell_type": "code",
   "execution_count": 9,
   "metadata": {},
   "outputs": [],
   "source": [
    "# Add GDP per capita data to the deaths data\n",
    "df = pd.merge(df1, df2, on = ['Entity', 'Year', 'Code'], how = \"inner\")"
   ]
  },
  {
   "cell_type": "code",
   "execution_count": 10,
   "metadata": {},
   "outputs": [
    {
     "data": {
      "text/plain": [
       "(4290, 42)"
      ]
     },
     "execution_count": 10,
     "metadata": {},
     "output_type": "execute_result"
    }
   ],
   "source": [
    "df.shape"
   ]
  },
  {
   "cell_type": "code",
   "execution_count": 11,
   "metadata": {},
   "outputs": [],
   "source": [
    "df.columns = [x.split(' - ')[1] if ' - ' in x else  x.split(' - ')[0] for x in list(df.columns.values)]"
   ]
  },
  {
   "cell_type": "code",
   "execution_count": 12,
   "metadata": {},
   "outputs": [],
   "source": [
    "df= df.fillna(0)\n",
    "df.columns = ['Entity', 'Code', 'Year',\n",
    "       'Number of executions (Amnesty International)', 'Meningitis',\n",
    "       \"Alzheimer's disease and other dementias\", \"Parkinson's disease\",'Nutritional deficiencies', 'Malaria', 'Drowning',\n",
    "       'Interpersonal violence', 'Maternal disorders', 'HIV/AIDS','Drug use disorders', 'Tuberculosis', 'Cardiovascular diseases',\n",
    "       'Lower respiratory infections', 'Neonatal disorders','Alcohol use disorders', 'Self-harm',\n",
    "       'Exposure to forces of nature', 'Diarrheal diseases', 'Environmental heat and cold exposure', 'Neoplasms',\n",
    "       'Conflict and terrorism', 'Diabetes mellitus',\n",
    "       'Chronic kidney disease', 'Poisonings','Protein-energy malnutrition', 'Terrorism (deaths)',\n",
    "       'Road injuries', 'Chronic respiratory diseases','Cirrhosis and other chronic liver diseases', 'Digestive diseases',\n",
    "       'Fire, heat, and hot substances', 'Acute hepatitis', 'total_deaths','gdp_per_capita', 'subregion', 'name', 'region', 'continent']"
   ]
  },
  {
   "cell_type": "code",
   "execution_count": 13,
   "metadata": {},
   "outputs": [],
   "source": [
    "df = df.drop('Number of executions (Amnesty International)', axis=1)"
   ]
  },
  {
   "cell_type": "code",
   "execution_count": 14,
   "metadata": {},
   "outputs": [
    {
     "name": "stdout",
     "output_type": "stream",
     "text": [
      "<class 'pandas.core.frame.DataFrame'>\n",
      "Int64Index: 4290 entries, 0 to 4289\n",
      "Data columns (total 41 columns):\n",
      " #   Column                                      Non-Null Count  Dtype  \n",
      "---  ------                                      --------------  -----  \n",
      " 0   Entity                                      4290 non-null   object \n",
      " 1   Code                                        4290 non-null   object \n",
      " 2   Year                                        4290 non-null   int64  \n",
      " 3   Meningitis                                  4290 non-null   float64\n",
      " 4   Alzheimer's disease and other dementias     4290 non-null   float64\n",
      " 5   Parkinson's disease                         4290 non-null   float64\n",
      " 6   Nutritional deficiencies                    4290 non-null   float64\n",
      " 7   Malaria                                     4290 non-null   float64\n",
      " 8   Drowning                                    4290 non-null   float64\n",
      " 9   Interpersonal violence                      4290 non-null   float64\n",
      " 10  Maternal disorders                          4290 non-null   float64\n",
      " 11  HIV/AIDS                                    4290 non-null   float64\n",
      " 12  Drug use disorders                          4290 non-null   float64\n",
      " 13  Tuberculosis                                4290 non-null   float64\n",
      " 14  Cardiovascular diseases                     4290 non-null   float64\n",
      " 15  Lower respiratory infections                4290 non-null   float64\n",
      " 16  Neonatal disorders                          4290 non-null   float64\n",
      " 17  Alcohol use disorders                       4290 non-null   float64\n",
      " 18  Self-harm                                   4290 non-null   float64\n",
      " 19  Exposure to forces of nature                4290 non-null   float64\n",
      " 20  Diarrheal diseases                          4290 non-null   float64\n",
      " 21  Environmental heat and cold exposure        4290 non-null   float64\n",
      " 22  Neoplasms                                   4290 non-null   float64\n",
      " 23  Conflict and terrorism                      4290 non-null   float64\n",
      " 24  Diabetes mellitus                           4290 non-null   float64\n",
      " 25  Chronic kidney disease                      4290 non-null   float64\n",
      " 26  Poisonings                                  4290 non-null   float64\n",
      " 27  Protein-energy malnutrition                 4290 non-null   float64\n",
      " 28  Terrorism (deaths)                          4290 non-null   float64\n",
      " 29  Road injuries                               4290 non-null   float64\n",
      " 30  Chronic respiratory diseases                4290 non-null   float64\n",
      " 31  Cirrhosis and other chronic liver diseases  4290 non-null   float64\n",
      " 32  Digestive diseases                          4290 non-null   float64\n",
      " 33  Fire, heat, and hot substances              4290 non-null   float64\n",
      " 34  Acute hepatitis                             4290 non-null   float64\n",
      " 35  total_deaths                                4290 non-null   float64\n",
      " 36  gdp_per_capita                              4290 non-null   float64\n",
      " 37  subregion                                   4290 non-null   object \n",
      " 38  name                                        4290 non-null   object \n",
      " 39  region                                      4290 non-null   object \n",
      " 40  continent                                   4290 non-null   object \n",
      "dtypes: float64(34), int64(1), object(6)\n",
      "memory usage: 1.4+ MB\n"
     ]
    }
   ],
   "source": [
    "df.info()"
   ]
  },
  {
   "cell_type": "code",
   "execution_count": 15,
   "metadata": {},
   "outputs": [],
   "source": [
    "idf = df.interactive()"
   ]
  },
  {
   "cell_type": "code",
   "execution_count": 16,
   "metadata": {},
   "outputs": [
    {
     "data": {
      "application/vnd.jupyter.widget-view+json": {
       "model_id": "e713c91534624ec99bf6f4a67e22acea",
       "version_major": 2,
       "version_minor": 0
      },
      "text/plain": [
       "BokehModel(combine_events=True, render_bundle={'docs_json': {'30b847ea-931b-4863-a4ff-fe1b39e54c02': {'defs': …"
      ]
     },
     "execution_count": 16,
     "metadata": {},
     "output_type": "execute_result"
    }
   ],
   "source": [
    "import datetime as dt\n",
    "date_slider = pn.widgets.IntSlider(\n",
    "                        name = 'Date Slider',\n",
    "                        start = 1990,\n",
    "                        end =2019,\n",
    "                        step = 5,\n",
    "                        value = 1995\n",
    ")\n",
    "date_slider"
   ]
  },
  {
   "cell_type": "code",
   "execution_count": 17,
   "metadata": {},
   "outputs": [],
   "source": [
    "yaxis_dth = pn.widgets.MultiSelect(name='Cause of Death', \n",
    "                        value=list(df.columns.values[3:-5]),\n",
    "                        options=list(df.columns.values[3:-5]), \n",
    "                        size=8)"
   ]
  },
  {
   "cell_type": "code",
   "execution_count": 18,
   "metadata": {},
   "outputs": [],
   "source": [
    "continents = ['World', 'Asia','Europe', 'Africa', 'North America', 'South America','Oceania']\n",
    "\n",
    "cov_pipeline = (\n",
    "    idf[\n",
    "        (idf.Year <= date_slider) &\n",
    "        (idf.continent.isin(continents))\n",
    "    ]\n",
    "    .groupby(['continent', 'Year'])[yaxis_dth].mean()\n",
    "    #.to_frame()\n",
    "    .reset_index()\n",
    "    .sort_values(by = 'Year')\n",
    "    .reset_index(drop=True)\n",
    ")"
   ]
  },
  {
   "cell_type": "code",
   "execution_count": 19,
   "metadata": {},
   "outputs": [
    {
     "data": {
      "application/vnd.jupyter.widget-view+json": {
       "model_id": "2706a483bbd24ed186e474b4903f486e",
       "version_major": 2,
       "version_minor": 0
      },
      "text/plain": [
       "BokehModel(combine_events=True, render_bundle={'docs_json': {'9fd32da0-0edd-4971-9d2a-5bd3513c7851': {'defs': …"
      ]
     },
     "execution_count": 19,
     "metadata": {},
     "output_type": "execute_result"
    }
   ],
   "source": [
    "cov_plot = cov_pipeline.hvplot(x = 'Year',\n",
    "            by = 'continent',\n",
    "            y = yaxis_dth,\n",
    "            width =2,\n",
    "            title = 'Annual deaths by Continent',\n",
    "            kind = 'line')\n",
    "cov_plot"
   ]
  },
  {
   "cell_type": "code",
   "execution_count": 20,
   "metadata": {},
   "outputs": [
    {
     "data": {
      "application/vnd.jupyter.widget-view+json": {
       "model_id": "97ec49f33db447698914b8c75657b646",
       "version_major": 2,
       "version_minor": 0
      },
      "text/plain": [
       "BokehModel(combine_events=True, render_bundle={'docs_json': {'0f0db528-949e-4af0-bdb6-e508156d9e5d': {'defs': …"
      ]
     },
     "execution_count": 20,
     "metadata": {},
     "output_type": "execute_result"
    }
   ],
   "source": [
    "cov_table = cov_pipeline.pipe(pn.widgets.Tabulator, \n",
    "                                pagination = 'remote', \n",
    "                                page_size=10,\n",
    "                                sizing_mode = 'stretch_width')\n",
    "cov_table"
   ]
  },
  {
   "cell_type": "code",
   "execution_count": 21,
   "metadata": {},
   "outputs": [],
   "source": [
    "dth_gdp_pipeline = (\n",
    "    idf[\n",
    "        (idf.Year <= date_slider) &\n",
    "        (idf.continent.isin(continents))\n",
    "    ]\n",
    "    .groupby(['continent', 'Year', 'gdp_per_capita'])['total_deaths'].mean()\n",
    "    .to_frame()\n",
    "    .reset_index()\n",
    "    .sort_values(by = 'Year')\n",
    "    .reset_index(drop=True)\n",
    ")\n"
   ]
  },
  {
   "cell_type": "code",
   "execution_count": 22,
   "metadata": {},
   "outputs": [
    {
     "data": {
      "application/vnd.jupyter.widget-view+json": {
       "model_id": "504ca8c69060466fb0eb79cf1d3c2516",
       "version_major": 2,
       "version_minor": 0
      },
      "text/plain": [
       "BokehModel(combine_events=True, render_bundle={'docs_json': {'45267dfc-5a9b-458c-b867-14f5c22e1852': {'defs': …"
      ]
     },
     "execution_count": 22,
     "metadata": {},
     "output_type": "execute_result"
    }
   ],
   "source": [
    "dth_gdp_pipeline"
   ]
  },
  {
   "cell_type": "code",
   "execution_count": 23,
   "metadata": {},
   "outputs": [
    {
     "data": {
      "application/vnd.jupyter.widget-view+json": {
       "model_id": "2a3f567606c84f418094309a6e82c5da",
       "version_major": 2,
       "version_minor": 0
      },
      "text/plain": [
       "BokehModel(combine_events=True, render_bundle={'docs_json': {'627d50bb-9e68-4979-8f38-c127dbc889e8': {'defs': …"
      ]
     },
     "execution_count": 23,
     "metadata": {},
     "output_type": "execute_result"
    }
   ],
   "source": [
    "dthgdp_scatter = dth_gdp_pipeline.hvplot(x = 'gdp_per_capita',\n",
    "                                            y = 'total_deaths',\n",
    "                                            by = 'continent',\n",
    "                                            size = 80,\n",
    "                                            kind = 'scatter',\n",
    "                                            legend = True,\n",
    "                                            height = 500,\n",
    "                                            width = 800)\n",
    "dthgdp_scatter"
   ]
  },
  {
   "cell_type": "code",
   "execution_count": 24,
   "metadata": {},
   "outputs": [],
   "source": [
    "yaxis_bar_dth = pn.widgets.MultiSelect(name='Cause of Death', \n",
    "                        value=list(df.columns.values[3:-5]),\n",
    "                        options=list(df.columns.values[3:-5]), \n",
    "                        size=8)"
   ]
  },
  {
   "cell_type": "code",
   "execution_count": 26,
   "metadata": {},
   "outputs": [],
   "source": [
    "continent_cause_dth = cov_pipeline.hvplot.bar(x='continent', y=yaxis_dth, height=500)"
   ]
  },
  {
   "cell_type": "code",
   "execution_count": 32,
   "metadata": {},
   "outputs": [
    {
     "ename": "ValueError",
     "evalue": "JPG pane cannot parse string that is not a filename or URL.",
     "output_type": "error",
     "traceback": [
      "\u001b[1;31m---------------------------------------------------------------------------\u001b[0m",
      "\u001b[1;31mValueError\u001b[0m                                Traceback (most recent call last)",
      "\u001b[1;32mc:\\Users\\adejimi\\OneDrive - ARO Volcani Center\\DA_Projects\\DTH\\cause_of_death.ipynb Cell 25\u001b[0m in \u001b[0;36m<cell line: 1>\u001b[1;34m()\u001b[0m\n\u001b[0;32m      <a href='vscode-notebook-cell:/c%3A/Users/adejimi/OneDrive%20-%20ARO%20Volcani%20Center/DA_Projects/DTH/cause_of_death.ipynb#X33sZmlsZQ%3D%3D?line=0'>1</a>\u001b[0m dash_template \u001b[39m=\u001b[39m pn\u001b[39m.\u001b[39mtemplate\u001b[39m.\u001b[39mFastListTemplate(\n\u001b[0;32m      <a href='vscode-notebook-cell:/c%3A/Users/adejimi/OneDrive%20-%20ARO%20Volcani%20Center/DA_Projects/DTH/cause_of_death.ipynb#X33sZmlsZQ%3D%3D?line=1'>2</a>\u001b[0m     title \u001b[39m=\u001b[39m \u001b[39m'\u001b[39m\u001b[39mCause of Death Dashboard\u001b[39m\u001b[39m'\u001b[39m,\n\u001b[0;32m      <a href='vscode-notebook-cell:/c%3A/Users/adejimi/OneDrive%20-%20ARO%20Volcani%20Center/DA_Projects/DTH/cause_of_death.ipynb#X33sZmlsZQ%3D%3D?line=2'>3</a>\u001b[0m     sidebar\u001b[39m=\u001b[39m [pn\u001b[39m.\u001b[39mpane\u001b[39m.\u001b[39mMarkdown(\u001b[39m'\u001b[39m\u001b[39m# Cause of Death\u001b[39m\u001b[39m'\u001b[39m),\n\u001b[0;32m      <a href='vscode-notebook-cell:/c%3A/Users/adejimi/OneDrive%20-%20ARO%20Volcani%20Center/DA_Projects/DTH/cause_of_death.ipynb#X33sZmlsZQ%3D%3D?line=3'>4</a>\u001b[0m               pn\u001b[39m.\u001b[39mpane\u001b[39m.\u001b[39mMarkdown(\u001b[39m\"\u001b[39m\u001b[39m### Death, they say, is a constant part of life. Information about the most common cause of death can help prevent these causes and improve the life expectancy of many.\u001b[39m\u001b[39m\"\u001b[39m),\n\u001b[1;32m----> <a href='vscode-notebook-cell:/c%3A/Users/adejimi/OneDrive%20-%20ARO%20Volcani%20Center/DA_Projects/DTH/cause_of_death.ipynb#X33sZmlsZQ%3D%3D?line=4'>5</a>\u001b[0m               pn\u001b[39m.\u001b[39;49mpane\u001b[39m.\u001b[39;49mJPG(\u001b[39m'\u001b[39;49m\u001b[39mDeath_and_Life.png\u001b[39;49m\u001b[39m'\u001b[39;49m, sizing_mode\u001b[39m=\u001b[39;49m\u001b[39m'\u001b[39;49m\u001b[39mscale_both\u001b[39;49m\u001b[39m'\u001b[39;49m),\n\u001b[0;32m      <a href='vscode-notebook-cell:/c%3A/Users/adejimi/OneDrive%20-%20ARO%20Volcani%20Center/DA_Projects/DTH/cause_of_death.ipynb#X33sZmlsZQ%3D%3D?line=5'>6</a>\u001b[0m               pn\u001b[39m.\u001b[39mpane\u001b[39m.\u001b[39mMarkdown(\u001b[39m'\u001b[39m\u001b[39m## Settings\u001b[39m\u001b[39m'\u001b[39m),\n\u001b[0;32m      <a href='vscode-notebook-cell:/c%3A/Users/adejimi/OneDrive%20-%20ARO%20Volcani%20Center/DA_Projects/DTH/cause_of_death.ipynb#X33sZmlsZQ%3D%3D?line=6'>7</a>\u001b[0m               date_slider],\n\u001b[0;32m      <a href='vscode-notebook-cell:/c%3A/Users/adejimi/OneDrive%20-%20ARO%20Volcani%20Center/DA_Projects/DTH/cause_of_death.ipynb#X33sZmlsZQ%3D%3D?line=7'>8</a>\u001b[0m     main \u001b[39m=\u001b[39m [pn\u001b[39m.\u001b[39mRow(pn\u001b[39m.\u001b[39mColumn(yaxis_dth, \n\u001b[0;32m      <a href='vscode-notebook-cell:/c%3A/Users/adejimi/OneDrive%20-%20ARO%20Volcani%20Center/DA_Projects/DTH/cause_of_death.ipynb#X33sZmlsZQ%3D%3D?line=8'>9</a>\u001b[0m                              cov_plot\u001b[39m.\u001b[39mpanel(width \u001b[39m=\u001b[39m \u001b[39m700\u001b[39m), margin \u001b[39m=\u001b[39m (\u001b[39m0\u001b[39m, \u001b[39m25\u001b[39m)),\n\u001b[0;32m     <a href='vscode-notebook-cell:/c%3A/Users/adejimi/OneDrive%20-%20ARO%20Volcani%20Center/DA_Projects/DTH/cause_of_death.ipynb#X33sZmlsZQ%3D%3D?line=9'>10</a>\u001b[0m                    cov_table\u001b[39m.\u001b[39mpanel(width \u001b[39m=\u001b[39m \u001b[39m500\u001b[39m)),\n\u001b[0;32m     <a href='vscode-notebook-cell:/c%3A/Users/adejimi/OneDrive%20-%20ARO%20Volcani%20Center/DA_Projects/DTH/cause_of_death.ipynb#X33sZmlsZQ%3D%3D?line=10'>11</a>\u001b[0m             pn\u001b[39m.\u001b[39mRow(pn\u001b[39m.\u001b[39mColumn(dthgdp_scatter\u001b[39m.\u001b[39mpanel(width \u001b[39m=\u001b[39m \u001b[39m600\u001b[39m), margin\u001b[39m=\u001b[39m(\u001b[39m0\u001b[39m, \u001b[39m25\u001b[39m)), \n\u001b[0;32m     <a href='vscode-notebook-cell:/c%3A/Users/adejimi/OneDrive%20-%20ARO%20Volcani%20Center/DA_Projects/DTH/cause_of_death.ipynb#X33sZmlsZQ%3D%3D?line=11'>12</a>\u001b[0m                    pn\u001b[39m.\u001b[39mColumn(yaxis_dth, continent_cause_dth\u001b[39m.\u001b[39mpanel(width \u001b[39m=\u001b[39m \u001b[39m600\u001b[39m)))],\n\u001b[0;32m     <a href='vscode-notebook-cell:/c%3A/Users/adejimi/OneDrive%20-%20ARO%20Volcani%20Center/DA_Projects/DTH/cause_of_death.ipynb#X33sZmlsZQ%3D%3D?line=12'>13</a>\u001b[0m     accent_base_color \u001b[39m=\u001b[39m \u001b[39m'\u001b[39m\u001b[39m#88d8b0\u001b[39m\u001b[39m'\u001b[39m,\n\u001b[0;32m     <a href='vscode-notebook-cell:/c%3A/Users/adejimi/OneDrive%20-%20ARO%20Volcani%20Center/DA_Projects/DTH/cause_of_death.ipynb#X33sZmlsZQ%3D%3D?line=13'>14</a>\u001b[0m     header_background \u001b[39m=\u001b[39m \u001b[39m'\u001b[39m\u001b[39m#88d8b0\u001b[39m\u001b[39m'\u001b[39m \n\u001b[0;32m     <a href='vscode-notebook-cell:/c%3A/Users/adejimi/OneDrive%20-%20ARO%20Volcani%20Center/DA_Projects/DTH/cause_of_death.ipynb#X33sZmlsZQ%3D%3D?line=14'>15</a>\u001b[0m )\n\u001b[0;32m     <a href='vscode-notebook-cell:/c%3A/Users/adejimi/OneDrive%20-%20ARO%20Volcani%20Center/DA_Projects/DTH/cause_of_death.ipynb#X33sZmlsZQ%3D%3D?line=15'>16</a>\u001b[0m \u001b[39m#dash_template.show()\u001b[39;00m\n\u001b[0;32m     <a href='vscode-notebook-cell:/c%3A/Users/adejimi/OneDrive%20-%20ARO%20Volcani%20Center/DA_Projects/DTH/cause_of_death.ipynb#X33sZmlsZQ%3D%3D?line=16'>17</a>\u001b[0m dash_template\u001b[39m.\u001b[39mservable()\n",
      "File \u001b[1;32m~\\AppData\\Local\\Packages\\PythonSoftwareFoundation.Python.3.9_qbz5n2kfra8p0\\LocalCache\\local-packages\\Python39\\site-packages\\panel\\pane\\image.py:36\u001b[0m, in \u001b[0;36mFileBase.__init__\u001b[1;34m(self, object, **params)\u001b[0m\n\u001b[0;32m     34\u001b[0m \u001b[39mif\u001b[39;00m \u001b[39misinstance\u001b[39m(\u001b[39mobject\u001b[39m, PurePath):\n\u001b[0;32m     35\u001b[0m     \u001b[39mobject\u001b[39m \u001b[39m=\u001b[39m \u001b[39mstr\u001b[39m(\u001b[39mobject\u001b[39m)\n\u001b[1;32m---> 36\u001b[0m \u001b[39msuper\u001b[39m()\u001b[39m.\u001b[39m\u001b[39m__init__\u001b[39m(\u001b[39mobject\u001b[39m\u001b[39m=\u001b[39m\u001b[39mobject\u001b[39m, \u001b[39m*\u001b[39m\u001b[39m*\u001b[39mparams)\n",
      "File \u001b[1;32m~\\AppData\\Local\\Packages\\PythonSoftwareFoundation.Python.3.9_qbz5n2kfra8p0\\LocalCache\\local-packages\\Python39\\site-packages\\panel\\pane\\base.py:143\u001b[0m, in \u001b[0;36mPaneBase.__init__\u001b[1;34m(self, object, **params)\u001b[0m\n\u001b[0;32m    141\u001b[0m applies \u001b[39m=\u001b[39m \u001b[39mself\u001b[39m\u001b[39m.\u001b[39mapplies(\u001b[39mobject\u001b[39m, \u001b[39m*\u001b[39m\u001b[39m*\u001b[39m(params \u001b[39mif\u001b[39;00m \u001b[39mself\u001b[39m\u001b[39m.\u001b[39m_applies_kw \u001b[39melse\u001b[39;00m {}))\n\u001b[0;32m    142\u001b[0m \u001b[39mif\u001b[39;00m (\u001b[39misinstance\u001b[39m(applies, \u001b[39mbool\u001b[39m) \u001b[39mand\u001b[39;00m \u001b[39mnot\u001b[39;00m applies) \u001b[39mand\u001b[39;00m \u001b[39mobject\u001b[39m \u001b[39mis\u001b[39;00m \u001b[39mnot\u001b[39;00m \u001b[39mNone\u001b[39;00m :\n\u001b[1;32m--> 143\u001b[0m     \u001b[39mself\u001b[39;49m\u001b[39m.\u001b[39;49m_type_error(\u001b[39mobject\u001b[39;49m)\n\u001b[0;32m    145\u001b[0m \u001b[39msuper\u001b[39m()\u001b[39m.\u001b[39m\u001b[39m__init__\u001b[39m(\u001b[39mobject\u001b[39m\u001b[39m=\u001b[39m\u001b[39mobject\u001b[39m, \u001b[39m*\u001b[39m\u001b[39m*\u001b[39mparams)\n\u001b[0;32m    146\u001b[0m kwargs \u001b[39m=\u001b[39m {k: v \u001b[39mfor\u001b[39;00m k, v \u001b[39min\u001b[39;00m params\u001b[39m.\u001b[39mitems() \u001b[39mif\u001b[39;00m k \u001b[39min\u001b[39;00m Layoutable\u001b[39m.\u001b[39mparam}\n",
      "File \u001b[1;32m~\\AppData\\Local\\Packages\\PythonSoftwareFoundation.Python.3.9_qbz5n2kfra8p0\\LocalCache\\local-packages\\Python39\\site-packages\\panel\\pane\\image.py:40\u001b[0m, in \u001b[0;36mFileBase._type_error\u001b[1;34m(self, object)\u001b[0m\n\u001b[0;32m     38\u001b[0m \u001b[39mdef\u001b[39;00m \u001b[39m_type_error\u001b[39m(\u001b[39mself\u001b[39m, \u001b[39mobject\u001b[39m):\n\u001b[0;32m     39\u001b[0m     \u001b[39mif\u001b[39;00m \u001b[39misinstance\u001b[39m(\u001b[39mobject\u001b[39m, \u001b[39mstr\u001b[39m):\n\u001b[1;32m---> 40\u001b[0m         \u001b[39mraise\u001b[39;00m \u001b[39mValueError\u001b[39;00m(\u001b[39m\"\u001b[39m\u001b[39m%s\u001b[39;00m\u001b[39m pane cannot parse string that is not a filename \u001b[39m\u001b[39m\"\u001b[39m\n\u001b[0;32m     41\u001b[0m                          \u001b[39m\"\u001b[39m\u001b[39mor URL.\u001b[39m\u001b[39m\"\u001b[39m \u001b[39m%\u001b[39m \u001b[39mtype\u001b[39m(\u001b[39mself\u001b[39m)\u001b[39m.\u001b[39m\u001b[39m__name__\u001b[39m)\n\u001b[0;32m     42\u001b[0m     \u001b[39msuper\u001b[39m()\u001b[39m.\u001b[39m_type_error(\u001b[39mobject\u001b[39m)\n",
      "\u001b[1;31mValueError\u001b[0m: JPG pane cannot parse string that is not a filename or URL."
     ]
    }
   ],
   "source": [
    "dash_template = pn.template.FastListTemplate(\n",
    "    title = 'Cause of Death Dashboard',\n",
    "    sidebar= [pn.pane.Markdown('# Cause of Death'),\n",
    "              pn.pane.Markdown(\"### Death, they say, is a constant part of life. Information about the most common cause of death can help prevent these causes and improve the life expectancy of many.\"),\n",
    "              pn.pane.JPG('Death_and_Life.png', sizing_mode='scale_both'),\n",
    "              pn.pane.Markdown('## Settings'),\n",
    "              date_slider],\n",
    "    main = [pn.Row(pn.Column(yaxis_dth, \n",
    "                             cov_plot.panel(width = 700), margin = (0, 25)),\n",
    "                   cov_table.panel(width = 500)),\n",
    "            pn.Row(pn.Column(dthgdp_scatter.panel(width = 600), margin=(0, 25)), \n",
    "                   pn.Column(yaxis_dth, continent_cause_dth.panel(width = 600)))],\n",
    "    accent_base_color = '#88d8b0',\n",
    "    header_background = '#88d8b0' \n",
    ")\n",
    "#dash_template.show()\n",
    "dash_template.servable()"
   ]
  },
  {
   "cell_type": "code",
   "execution_count": 29,
   "metadata": {},
   "outputs": [
    {
     "data": {
      "text/plain": [
       "'c:\\\\Users\\\\adejimi\\\\OneDrive - ARO Volcani Center\\\\DA_Projects\\\\DTH'"
      ]
     },
     "execution_count": 29,
     "metadata": {},
     "output_type": "execute_result"
    }
   ],
   "source": [
    "os.getcwd()"
   ]
  }
 ],
 "metadata": {
  "kernelspec": {
   "display_name": "Python 3.9.13 64-bit (microsoft store)",
   "language": "python",
   "name": "python3"
  },
  "language_info": {
   "codemirror_mode": {
    "name": "ipython",
    "version": 3
   },
   "file_extension": ".py",
   "mimetype": "text/x-python",
   "name": "python",
   "nbconvert_exporter": "python",
   "pygments_lexer": "ipython3",
   "version": "3.9.13"
  },
  "orig_nbformat": 4,
  "vscode": {
   "interpreter": {
    "hash": "2b60a9d67787789f9cf6bd92a2d31374a68e353f1e59be8b77b62748c722671f"
   }
  }
 },
 "nbformat": 4,
 "nbformat_minor": 2
}
